{
  "nbformat": 4,
  "nbformat_minor": 0,
  "metadata": {
    "colab": {
      "provenance": [],
      "toc_visible": true
    },
    "kernelspec": {
      "name": "python3",
      "display_name": "Python 3"
    },
    "language_info": {
      "name": "python"
    }
  },
  "cells": [
    {
      "cell_type": "markdown",
      "metadata": {
        "id": "La_cEqh418R7"
      },
      "source": [
        "## Векторы и матрицы"
      ]
    },
    {
      "cell_type": "markdown",
      "metadata": {
        "id": "ITSohtIb3xri"
      },
      "source": [
        "### Массив Numpy (Numpy array)"
      ]
    },
    {
      "cell_type": "code",
      "metadata": {
        "id": "pD3xI-y148Dx"
      },
      "source": [
        "import numpy as np"
      ],
      "execution_count": null,
      "outputs": []
    },
    {
      "cell_type": "code",
      "metadata": {
        "id": "y1_WVreA14IF"
      },
      "source": [
        "# предположим мы записали наши данные\n",
        "# роста, веса и обхвата шеи одного человека в список\n",
        "data = [1.72, 54, 36.2]"
      ],
      "execution_count": null,
      "outputs": []
    },
    {
      "cell_type": "code",
      "metadata": {
        "colab": {
          "base_uri": "https://localhost:8080/"
        },
        "id": "aLumw2iL4bKM",
        "outputId": "96d86d26-9656-4a1f-96bc-e6b858f7cbcc"
      },
      "source": [
        "# убедимся, что это список с помощью функции type()\n",
        "type(data)"
      ],
      "execution_count": null,
      "outputs": [
        {
          "output_type": "execute_result",
          "data": {
            "text/plain": [
              "list"
            ]
          },
          "metadata": {},
          "execution_count": 3
        }
      ]
    },
    {
      "cell_type": "code",
      "metadata": {
        "colab": {
          "base_uri": "https://localhost:8080/"
        },
        "id": "KoaFIduc4vqW",
        "outputId": "c43171cd-520d-42d2-8d11-3fc6c2b96980"
      },
      "source": [
        "# преобразуем список в массив Numpy\n",
        "data_Numpy = np.array(data)\n",
        "data_Numpy"
      ],
      "execution_count": null,
      "outputs": [
        {
          "output_type": "execute_result",
          "data": {
            "text/plain": [
              "array([ 1.72, 54.  , 36.2 ])"
            ]
          },
          "metadata": {},
          "execution_count": 4
        }
      ]
    },
    {
      "cell_type": "code",
      "metadata": {
        "colab": {
          "base_uri": "https://localhost:8080/"
        },
        "id": "pSFD2lOR45VW",
        "outputId": "2d6ba826-069c-4f33-af06-7f85357d95ea"
      },
      "source": [
        "# если у нас несколько наблюдений, то нужна матрица, т.е.\n",
        "# по сути, несколько векторов\n",
        "data_matrix = np.array([[1.72, 54, 36.2], [1.74, 58, 36.3], [1.68, 52, 32.9]])\n",
        "data_matrix"
      ],
      "execution_count": null,
      "outputs": [
        {
          "output_type": "execute_result",
          "data": {
            "text/plain": [
              "array([[ 1.72, 54.  , 36.2 ],\n",
              "       [ 1.74, 58.  , 36.3 ],\n",
              "       [ 1.68, 52.  , 32.9 ]])"
            ]
          },
          "metadata": {},
          "execution_count": 5
        }
      ]
    },
    {
      "cell_type": "code",
      "metadata": {
        "colab": {
          "base_uri": "https://localhost:8080/"
        },
        "id": "gZUsnCdh6FBX",
        "outputId": "997f9f38-8c7b-4057-dac7-a3cd9ca79e7e"
      },
      "source": [
        "# мы можем посмотреть размерность матрицы (количество строк и столбцов)\n",
        "data_matrix.shape"
      ],
      "execution_count": null,
      "outputs": [
        {
          "output_type": "execute_result",
          "data": {
            "text/plain": [
              "(3, 3)"
            ]
          },
          "metadata": {},
          "execution_count": 6
        }
      ]
    },
    {
      "cell_type": "markdown",
      "metadata": {
        "id": "P1BzMhSL6nPc"
      },
      "source": [
        "### Скалярное произведение векторов (dot product)"
      ]
    },
    {
      "cell_type": "markdown",
      "metadata": {
        "id": "6xsjBTTiCbN2"
      },
      "source": [
        "Напомню формулу:\n",
        "\n",
        "  $$\\vec{a}=(a_{1}, a_{2})$$\n",
        "  $$\\vec{w}=(w_{1}, w_{2})$$\n",
        "  $$\\vec{a}\\cdot\\vec{w}=a_{1}w_{1}+a_{2}w_{2}$$"
      ]
    },
    {
      "cell_type": "code",
      "metadata": {
        "id": "oLKtgXZO6WBe"
      },
      "source": [
        "# даны два вектора в виде массивов Numpy\n",
        "\n",
        "a = np.array([1.72, 54]) # вектор данных\n",
        "w = np.array([19.86, 0.05]) # вектор весов"
      ],
      "execution_count": null,
      "outputs": []
    },
    {
      "cell_type": "code",
      "metadata": {
        "colab": {
          "base_uri": "https://localhost:8080/"
        },
        "id": "SvfwMrCN7AHp",
        "outputId": "f518d045-d90a-422d-becc-2a6184e0cd4c"
      },
      "source": [
        "# перемножим их вручную\n",
        "1.72 * 19.86 + 54 * 0.05"
      ],
      "execution_count": null,
      "outputs": [
        {
          "output_type": "execute_result",
          "data": {
            "text/plain": [
              "36.8592"
            ]
          },
          "metadata": {},
          "execution_count": 9
        }
      ]
    },
    {
      "cell_type": "code",
      "metadata": {
        "colab": {
          "base_uri": "https://localhost:8080/"
        },
        "id": "ISUEBSne7FWX",
        "outputId": "f35fe324-45b3-4126-9dc5-59e9f501c262"
      },
      "source": [
        "# используем скалярное произведение векторов\n",
        "np.dot(a, w)"
      ],
      "execution_count": null,
      "outputs": [
        {
          "output_type": "execute_result",
          "data": {
            "text/plain": [
              "36.8592"
            ]
          },
          "metadata": {},
          "execution_count": 10
        }
      ]
    },
    {
      "cell_type": "markdown",
      "metadata": {
        "id": "1KeDIzMV9XyN"
      },
      "source": [
        "### Косинусное сходство между векторами"
      ]
    },
    {
      "cell_type": "markdown",
      "metadata": {
        "id": "-Wf32jTfA_H6"
      },
      "source": [
        "Первый шаг: найдем косинус угла по формуле $$ \\cos(\\theta )={\\mathbf {b} \\cdot \\mathbf {c} \\over \\|\\mathbf {b} \\|\\|\\mathbf {c} \\|} $$"
      ]
    },
    {
      "cell_type": "code",
      "metadata": {
        "id": "m08mssyx8_Ye"
      },
      "source": [
        "# даны два вектора (данные двух человек)\n",
        "# нам нужно понять, насколько они схожи\n",
        "b = np.array([1.72, 54, 36.2])\n",
        "c = np.array([1.56, 47, 30.0])"
      ],
      "execution_count": null,
      "outputs": []
    },
    {
      "cell_type": "code",
      "metadata": {
        "id": "Z5MmrsTs_pTy"
      },
      "source": [
        "# вначале выполним операции в числителе формулы\n",
        "numerator = np.dot(b, c)"
      ],
      "execution_count": null,
      "outputs": []
    },
    {
      "cell_type": "code",
      "metadata": {
        "id": "fdufBHKu_Fnc"
      },
      "source": [
        "# теперь займемся знаменателем и\n",
        "# (1) рассчитаем длины (по большому счету, это теорема Пифагора)\n",
        "bLen = np.linalg.norm(b)\n",
        "cLen = np.linalg.norm(c)\n",
        "\n",
        "# (2) перемножим их\n",
        "denominator = bLen * cLen"
      ],
      "execution_count": null,
      "outputs": []
    },
    {
      "cell_type": "code",
      "metadata": {
        "colab": {
          "base_uri": "https://localhost:8080/"
        },
        "id": "rwtu1Ivn_XeJ",
        "outputId": "f5350f5c-760e-4d14-e8cb-91f2ca751b6b"
      },
      "source": [
        "# посмотрим, чему равен косинус угла между векторами\n",
        "cosine = numerator/denominator\n",
        "cosine"
      ],
      "execution_count": null,
      "outputs": [
        {
          "output_type": "execute_result",
          "data": {
            "text/plain": [
              "0.9997468709497721"
            ]
          },
          "metadata": {},
          "execution_count": 14
        }
      ]
    },
    {
      "cell_type": "markdown",
      "metadata": {
        "id": "59IBUJS7BLGe"
      },
      "source": [
        "Второй шаг: найдем угол в градусах по его косинусу"
      ]
    },
    {
      "cell_type": "code",
      "metadata": {
        "id": "_Do9SMzhAW9N"
      },
      "source": [
        "# для этого вначале вычислим угол в радианах\n",
        "angle_radians = np.arccos(cosine)\n",
        "\n",
        "# затем в градусах\n",
        "angle_degrees = angle_radians * 360/2/np.pi"
      ],
      "execution_count": null,
      "outputs": []
    },
    {
      "cell_type": "code",
      "metadata": {
        "colab": {
          "base_uri": "https://localhost:8080/"
        },
        "id": "3HdLzhUHB5PG",
        "outputId": "70d0366f-4734-4e98-c03e-2b460720a9e3"
      },
      "source": [
        "angle_degrees"
      ],
      "execution_count": null,
      "outputs": [
        {
          "output_type": "execute_result",
          "data": {
            "text/plain": [
              "1.2891925481394304"
            ]
          },
          "metadata": {},
          "execution_count": 16
        }
      ]
    },
    {
      "cell_type": "markdown",
      "metadata": {
        "id": "dodmiVSKGLsf"
      },
      "source": [
        "### Упражнения"
      ]
    },
    {
      "cell_type": "code",
      "metadata": {
        "id": "MF0Kj8P-GNU-"
      },
      "source": [
        "# даны два вектора\n",
        "v1 = np.array([37, 84, 110.2, 18.6])\n",
        "v2 = np.array([5, 36, 199.6, 5.1])"
      ],
      "execution_count": null,
      "outputs": []
    },
    {
      "cell_type": "markdown",
      "source": [
        "#### Основы работы с массивами"
      ],
      "metadata": {
        "id": "xhsK7v1O9fyx"
      }
    },
    {
      "cell_type": "markdown",
      "source": [
        "**Задание 1**. Посмотрите с помощью Питона на тип данных любого из двух векторов."
      ],
      "metadata": {
        "id": "9ijkO72o9QJS"
      }
    },
    {
      "cell_type": "code",
      "metadata": {
        "id": "gdGx3bHNKu51"
      },
      "source": [],
      "execution_count": null,
      "outputs": []
    },
    {
      "cell_type": "markdown",
      "source": [
        "**Задание 2**. Какая размерность у этих векторов?"
      ],
      "metadata": {
        "id": "J7LbwCj29Zl4"
      }
    },
    {
      "cell_type": "code",
      "metadata": {
        "id": "VtQ1wpgdKnZP"
      },
      "source": [],
      "execution_count": null,
      "outputs": []
    },
    {
      "cell_type": "markdown",
      "metadata": {
        "id": "K4Lh1OQCMijh"
      },
      "source": [
        "#### Скалярное произведение векторов"
      ]
    },
    {
      "cell_type": "markdown",
      "source": [
        "**Задание 3**. Перемножьте векторы `v1` и `v2` вручную."
      ],
      "metadata": {
        "id": "9RMXlYGE9lAs"
      }
    },
    {
      "cell_type": "code",
      "metadata": {
        "id": "fSIM8FiVMu6I"
      },
      "source": [],
      "execution_count": null,
      "outputs": []
    },
    {
      "cell_type": "markdown",
      "source": [
        "**Задание 4**. Используйте функцию **dot()**."
      ],
      "metadata": {
        "id": "vivmgULw9uDi"
      }
    },
    {
      "cell_type": "code",
      "metadata": {
        "id": "cmc6SgWXMykd"
      },
      "source": [],
      "execution_count": null,
      "outputs": []
    },
    {
      "cell_type": "markdown",
      "metadata": {
        "id": "ocls86JOM8kS"
      },
      "source": [
        "#### Косинусное сходство между векторами"
      ]
    },
    {
      "cell_type": "markdown",
      "source": [
        "**Задание 5**. Найдите угол в градусах между векторами `v1` и `v2`."
      ],
      "metadata": {
        "id": "kLRkxDh495dE"
      }
    },
    {
      "cell_type": "code",
      "metadata": {
        "id": "Xx8D1lLTNAw3"
      },
      "source": [],
      "execution_count": null,
      "outputs": []
    }
  ]
}